{
  "cells": [
    {
      "cell_type": "markdown",
      "metadata": {
        "id": "view-in-github",
        "colab_type": "text"
      },
      "source": [
        "<a href=\"https://colab.research.google.com/github/amoyag/Estructura_Macromoleculas/blob/main/pymol.ipynb\" target=\"_parent\"><img src=\"https://colab.research.google.com/assets/colab-badge.svg\" alt=\"Open In Colab\"/></a>"
      ]
    },
    {
      "cell_type": "markdown",
      "id": "8dbf222c",
      "metadata": {
        "id": "8dbf222c"
      },
      "source": [
        "# Structure analysis with PyMOL"
      ]
    },
    {
      "cell_type": "markdown",
      "id": "c0188768",
      "metadata": {
        "id": "c0188768"
      },
      "source": [
        "## Jupyter Notebooks"
      ]
    },
    {
      "cell_type": "markdown",
      "id": "00161243",
      "metadata": {
        "id": "00161243"
      },
      "source": [
        "Jupyter Notebooks are an open-source web application that allow you to create and share documents that contain live code, equations, visualizations, and narrative text. They are widely used in data science, scientific computing, and machine learning for their interactive computing and data visualization capabilities.\n",
        "\n",
        "### Key Features of Jupyter Notebooks:\n",
        "\n",
        "1. **Interactive Computing**: Jupyter Notebooks provide an interactive environment where you can run code in a variety of programming languages, including Python, R, and Julia, and see the results immediately.\n",
        "\n",
        "2. **Support for Multiple Programming Languages**: While Jupyter started with Python, it now supports a variety of programming languages. You can even mix languages in a single notebook.\n",
        "\n",
        "3. **Rich Outputs**: Jupyter Notebooks support rich outputs, meaning that you can include HTML, images, videos, LaTeX, and custom MIME types in your notebook.\n",
        "\n",
        "4. **Integration with Data Science and Machine Learning Libraries**: Jupyter Notebooks integrate seamlessly with popular data science libraries such as NumPy, Pandas, Matplotlib, Scikit-Learn, and TensorFlow, making it a popular choice for data analysis and machine learning tasks.\n",
        "\n",
        "5. **Collaboration and Sharing**: Notebooks can be shared with others using email, Dropbox, GitHub, and the Jupyter Notebook Viewer. Your code can produce rich, interactive output: HTML, images, videos, LaTeX, and custom MIME types.\n",
        "\n",
        "### Examples of Using Jupyter Notebooks:\n",
        "\n",
        "1. **Data Analysis and Visualization**: You can use Jupyter Notebooks to import data, clean it, analyze it, and visualize it. For example, you can use Pandas to import and clean your data, Matplotlib or Seaborn to visualize it, and Scikit-Learn for machine learning.\n",
        "\n",
        "   ```python\n",
        "   import pandas as pd\n",
        "   import matplotlib.pyplot as plt\n",
        "\n",
        "   # Load data\n",
        "   df = pd.read_csv('data.csv')\n",
        "\n",
        "   # Clean data\n",
        "   df = df.dropna()\n",
        "\n",
        "   # Analyze data\n",
        "   mean_value = df['column'].mean()\n",
        "\n",
        "   # Visualize data\n",
        "   df['column'].plot(kind='hist')\n",
        "   plt.show()\n",
        "   ```\n",
        "\n",
        "2. **Machine Learning**: Jupyter Notebooks are widely used for machine learning tasks. You can write your code, train your models, and evaluate them all in one place.\n",
        "\n",
        "   ```python\n",
        "   from sklearn.model_selection import train_test_split\n",
        "   from sklearn.linear_model import LinearRegression\n",
        "   from sklearn.metrics import mean_squared_error\n",
        "\n",
        "   # Prepare data\n",
        "   X_train, X_test, y_train, y_test = train_test_split(df[['feature1', 'feature2']], df['target'], test_size=0.2)\n",
        "\n",
        "   # Train model\n",
        "   model = LinearRegression()\n",
        "   model.fit(X_train, y_train)\n",
        "\n",
        "   # Evaluate model\n",
        "   predictions = model.predict(X_test)\n",
        "   mse = mean_squared_error(y_test, predictions)\n",
        "   print('Mean Squared Error:', mse)\n",
        "   ```\n",
        "\n",
        "3. **Educational Purposes**: Jupyter Notebooks are also used in education to create interactive lessons and tutorials.\n",
        "\n",
        "   ```python\n",
        "   # This is a code cell in a Jupyter Notebook\n",
        "   print(\"Hello, World!\")\n",
        "   ```\n",
        "\n",
        "   When you run the above code cell, the notebook will execute the code and display the output directly below the code cell.\n",
        "\n",
        "### Conclusion\n",
        "\n",
        "Jupyter Notebooks provide a flexible, powerful, and interactive environment for data analysis, machine learning, and scientific computing. Their ability to combine code, visualizations, and narrative text makes them an invaluable tool for data scientists, researchers, and educators alike. Whether you are analyzing data, training machine learning models, or creating an interactive tutorial, Jupyter Notebooks offer a user-friendly and efficient platform to get your work done."
      ]
    },
    {
      "cell_type": "markdown",
      "id": "271f12a1",
      "metadata": {
        "id": "271f12a1"
      },
      "source": [
        "## Introduction to PyMOL"
      ]
    },
    {
      "cell_type": "markdown",
      "id": "241944b1",
      "metadata": {
        "id": "241944b1"
      },
      "source": [
        "PyMOL is a powerful and versatile molecular visualization system, widely used by scientists and researchers in the field of structural biology. Developed by Warren L. DeLano, PyMOL allows users to visualize, analyze, and manipulate molecular structures, with a particular emphasis on proteins, nucleic acids, and small molecule ligands.\n",
        "\n",
        "### Visualization\n",
        "PyMOL excels in rendering high-quality images of molecular structures, providing a range of visualization options to highlight different aspects of the molecules. Users can easily manipulate the view, zooming in and out, rotating, and changing the perspective to examine the structure from various angles. The software supports a variety of rendering styles, including sticks, spheres, ribbons, and cartoons, enabling users to choose the most informative representation for their specific analysis.\n",
        "\n",
        "### Analysis of Protein Structure\n",
        "Proteins are complex macromolecules that play crucial roles in nearly all biological processes. Understanding their three-dimensional structure is vital for unraveling their functions and interactions within the cell. PyMOL provides a suite of tools for analyzing protein structures, including:\n",
        "\n",
        "1. **Measurement Tools**: Users can measure distances, angles, and dihedral angles between atoms, helping to identify critical interactions and conformations within the protein.\n",
        "\n",
        "2. **Surface and Volume Calculations**: PyMOL can calculate and display molecular surfaces, providing insights into the protein’s shape, charge distribution, and potential binding sites.\n",
        "\n",
        "3. **Sequence to Structure Mapping**: The software allows for the alignment of the protein’s amino acid sequence to its three-dimensional structure, facilitating the identification of key residues and motifs.\n",
        "\n",
        "4. **Molecular Dynamics and Simulation**: While PyMOL itself does not perform molecular dynamics simulations, it can visualize the results from external simulation packages, aiding in the analysis of protein dynamics and flexibility.\n",
        "\n",
        "5. **Comparative Analysis**: Users can compare multiple protein structures, identifying similarities and differences that may be crucial for function or ligand binding.\n",
        "\n",
        "6. **Scripting and Automation**: PyMOL supports Python scripting, enabling users to automate repetitive tasks, customize analyses, and develop new tools and functionalities.\n",
        "\n",
        "### Conclusion\n",
        "PyMOL stands out as an indispensable tool in the field of structural biology, providing researchers with the means to visualize, analyze, and interpret the complex three-dimensional structures of proteins and other biomolecules. Its user-friendly interface, combined with its extensive range of features, makes it a preferred choice for both novice and experienced users in the scientific community. Whether for educational purposes, research, or drug design, PyMOL continues to contribute significantly to our understanding of molecular biology and biochemistry."
      ]
    },
    {
      "cell_type": "markdown",
      "id": "d45c9381",
      "metadata": {
        "id": "d45c9381"
      },
      "source": [
        "## PDB 101 and PyMOL basics"
      ]
    },
    {
      "cell_type": "markdown",
      "id": "f127a3a4",
      "metadata": {
        "id": "f127a3a4"
      },
      "source": [
        "### A first look at PyMOL"
      ]
    },
    {
      "cell_type": "code",
      "source": [
        "import IPython\n",
        "from IPython.display import Audio, Video, YouTubeVideo\n",
        "id = 'YOZjApRJ100'\n",
        "YouTubeVideo(id, width=960, height=540)"
      ],
      "metadata": {
        "id": "HOLTgXU4NAqT",
        "outputId": "bb5cf792-5e5c-4c63-fe90-a67838b4955e",
        "colab": {
          "base_uri": "https://localhost:8080/",
          "height": 561
        }
      },
      "id": "HOLTgXU4NAqT",
      "execution_count": null,
      "outputs": [
        {
          "output_type": "execute_result",
          "data": {
            "text/plain": [
              "<IPython.lib.display.YouTubeVideo at 0x7a3d9c1890f0>"
            ],
            "text/html": [
              "\n",
              "        <iframe\n",
              "            width=\"960\"\n",
              "            height=\"540\"\n",
              "            src=\"https://www.youtube.com/embed/YOZjApRJ100\"\n",
              "            frameborder=\"0\"\n",
              "            allowfullscreen\n",
              "            \n",
              "        ></iframe>\n",
              "        "
            ],
            "image/jpeg": "[encoded data removed]"
          },
          "metadata": {},
          "execution_count": 6
        }
      ]
    },
    {
      "cell_type": "markdown",
      "id": "12681d5e",
      "metadata": {
        "id": "12681d5e"
      },
      "source": [
        "Practice with the pymol GUI for a few minutes. You can download a molecule from the PDB (see below) or get PyMOL to load one \"automagically\" with\n",
        "<div class=\"alert alert-block alert-info\">\n",
        "    fetch 2BG9\n",
        "    </div>"
      ]
    },
    {
      "cell_type": "markdown",
      "id": "e1c3a43e",
      "metadata": {
        "id": "e1c3a43e"
      },
      "source": [
        "### PDB 101"
      ]
    },
    {
      "cell_type": "markdown",
      "id": "6ff5d183",
      "metadata": {
        "id": "6ff5d183"
      },
      "source": [
        "**Introduction to PDB-101**\n",
        "\n",
        "[PDB-101](https://pdb101.rcsb.org) is an educational resource developed by the Research Collaboratory for Structural Bioinformatics Protein Data Bank (RCSB PDB). It serves as a comprehensive guide for teachers, students, and the general public to learn about the fascinating world of proteins and nucleic acids. PDB-101 builds a bridge between the complexity of the molecular world and the curiosity of the general audience, making structural biology accessible and engaging.\n",
        "\n",
        "#### Key Features:\n",
        "\n",
        "1. **Molecule of the Month**: This popular feature provides an in-depth look at a particular protein or nucleic acid molecule each month. It includes detailed descriptions, interactive 3D visualizations, and educational resources to help users understand the molecule’s function, structure, and importance in biology.\n",
        "\n",
        "2. **Educational Resources**: PDB-101 offers a wide array of educational materials, including lesson plans, activities, and tutorials, tailored for different educational levels. These resources are designed to integrate molecular visualization and data analysis into the classroom.\n",
        "\n",
        "3. **3D Printing**: The resource provides guidelines and files for 3D printing molecular structures, allowing students and educators to transform digital molecular models into tangible objects for hands-on learning.\n",
        "\n",
        "4. **Video Library**: PDB-101 hosts a collection of videos that cover various topics in structural biology, providing visual explanations and insights into the molecular world.\n",
        "\n",
        "5. **Interactive Tools**: Users can explore molecular structures through interactive visualization tools, enhancing their understanding of how molecules look and function at the atomic level.\n",
        "\n",
        "#### Examples:\n",
        "\n",
        "1. **Molecule of the Month – Hemoglobin**: This feature provides a comprehensive overview of hemoglobin, the protein responsible for transporting oxygen in the blood. Users can explore its structure, learn about its function, and understand how mutations in hemoglobin can lead to diseases like sickle cell anemia.\n",
        "\n",
        "2. **Lesson Plan – Exploring the Molecular Basis of Mutation and Disease**: This educational resource guides teachers and students through a series of activities that explore how mutations at the molecular level can lead to diseases. It includes interactive visualizations, worksheets, and discussion questions.\n",
        "\n",
        "3. **3D Printing – DNA**: PDB-101 provides files and instructions for 3D printing a model of DNA, allowing users to physically interact with a representation of this essential molecule.\n",
        "\n",
        "4. **Video – Introduction to Proteins**: This video offers a visual and informative introduction to proteins, their structures, and their functions within living organisms.\n",
        "\n",
        "#### Conclusion:\n",
        "\n",
        "PDB-101 stands out as a valuable educational resource, making the intricate world of molecular biology accessible to a broader audience. Through its engaging content, interactive tools, and educational materials, it fosters a deeper understanding of the molecular structures that underpin life, supporting both formal and informal learning environments. Whether you are a student, teacher, or someone simply curious about the molecular world, PDB-101 provides a gateway to explore, learn, and appreciate the complexity and beauty of proteins and nucleic acids."
      ]
    },
    {
      "cell_type": "markdown",
      "id": "bc727d2b",
      "metadata": {
        "id": "bc727d2b"
      },
      "source": [
        "### Let's work with PyMOL"
      ]
    },
    {
      "cell_type": "markdown",
      "id": "0ae17901",
      "metadata": {
        "id": "0ae17901"
      },
      "source": [
        "Have a look at the [Molecule of the month article](http://pdb101.rcsb.org/motm/71) that describes the nicotinic acetylcholine receptor."
      ]
    },
    {
      "cell_type": "markdown",
      "id": "2ed8aed0",
      "metadata": {
        "id": "2ed8aed0"
      },
      "source": [
        "We will work with PyMOL to analyse the structure and answer some questions. We can load the structure into PyMOL with the command\n",
        "<div class=\"alert alert-block alert-info\">\n",
        "    fetch 2BG9\n",
        "    </div>\n"
      ]
    },
    {
      "cell_type": "markdown",
      "id": "9e4448e7",
      "metadata": {
        "id": "9e4448e7"
      },
      "source": [
        "We will manipulate the representation using commands instead of point and click. Enter the commands in the blue boxes in the PyMOL prompt.\n",
        "        \n",
        "Explore different colours, representations...        \n",
        "\n",
        "```\n",
        "\n",
        "    util.color_chains(\"(2bg9.clean.pdb )\",_self=cmd) # colour by chains\n",
        "    hide cartoon, 2bg9.clean.pdb  \n",
        "    show surface, 2bg9.clean.pdb  \n",
        "    spectrum count, rainbow_rev, 2bg9.clean.pdb , byres=1 # rainbow colours\n",
        "    util.cbc # colour by chain\n",
        "\n"
      ]
    },
    {
      "cell_type": "markdown",
      "id": "eed58381",
      "metadata": {
        "id": "eed58381"
      },
      "source": [
        "Explore the seconday structure elements using one chain.\n",
        "\n",
        "```\n",
        "hide surface, 2bg9.clean.pdb\n",
        "select cadenaA, chain A\n",
        "show cartoon, cadenaA\n",
        "```"
      ]
    },
    {
      "cell_type": "markdown",
      "id": "84b4f0e5",
      "metadata": {
        "id": "84b4f0e5"
      },
      "source": [
        "Set secondary structure with dss. Using color by SS in GUI is the same. For color values see https://pymolwiki.org/index.php/Color_Values\n",
        "```\n",
        "color firebrick, ss H\n",
        "color white, ss L\n",
        "color blue, ss S\n",
        "\n",
        "```\n",
        "\n"
      ]
    },
    {
      "cell_type": "markdown",
      "id": "c866d5b4",
      "metadata": {
        "id": "c866d5b4"
      },
      "source": [
        "Examine the beta sheets.\n",
        "\n",
        "```\n",
        "select betaA, ss S and chain A\n",
        "hide cartoon,  \n",
        "show cartoon, betaA\n",
        "color grey90, betaA\n",
        "orient betaA\n",
        "```\n",
        "\n",
        "\n",
        "    "
      ]
    },
    {
      "cell_type": "markdown",
      "id": "21fdd17a",
      "metadata": {
        "id": "21fdd17a"
      },
      "source": [
        "## Analyse the structure and answer some questions"
      ]
    },
    {
      "cell_type": "markdown",
      "source": [
        "Use the instructions below to make suitable PyMOL representations for answering the questions in the quiz."
      ],
      "metadata": {
        "id": "oF5FVRIoR9S9"
      },
      "id": "oF5FVRIoR9S9"
    },
    {
      "cell_type": "markdown",
      "source": [
        "### $\\beta$ sheets\n",
        "\n",
        "\n",
        "\n"
      ],
      "metadata": {
        "id": "pEU25-HxSOwW"
      },
      "id": "pEU25-HxSOwW"
    },
    {
      "cell_type": "markdown",
      "source": [
        "#### Select and analyse a couple of $\\beta$ sheets\n"
      ],
      "metadata": {
        "id": "vnLq4zEFTqkU"
      },
      "id": "vnLq4zEFTqkU"
    },
    {
      "cell_type": "markdown",
      "source": [
        "\n",
        "```\n",
        "select hoja1, resi 141-159 and chain A\n",
        "select hoja2, resi 199-209 and chain A\n",
        "hide cartoon\n",
        "show sticks, hoja1 or hoja2\n",
        "util.cnc(\"hoja1\") # color by element\n",
        "util.cnc(\"hoja2\")\n",
        "```\n"
      ],
      "metadata": {
        "id": "kUD0KILQT2t7"
      },
      "id": "kUD0KILQT2t7"
    },
    {
      "cell_type": "markdown",
      "source": [
        "#### Use the Measurement Wizard to pick N and O and measure the H-bond distance.\n"
      ],
      "metadata": {
        "id": "M8cZBnNkT_bi"
      },
      "id": "M8cZBnNkT_bi"
    },
    {
      "cell_type": "markdown",
      "source": [
        "```\n",
        "select 2betas, hoja1 or hoja2 # use the Action menu over this selection to find polar contacts.\n",
        "```\n"
      ],
      "metadata": {
        "id": "FdldIvJgUFlB"
      },
      "id": "FdldIvJgUFlB"
    },
    {
      "cell_type": "markdown",
      "source": [
        "### $\\alpha$ helix"
      ],
      "metadata": {
        "id": "J-R_hgO7US5C"
      },
      "id": "J-R_hgO7US5C"
    },
    {
      "cell_type": "markdown",
      "source": [
        "#### Measure the typical distance of the hydrogen bonds in the backbone of the helix"
      ],
      "metadata": {
        "id": "IxtVi7XKUbG6"
      },
      "id": "IxtVi7XKUbG6"
    },
    {
      "cell_type": "markdown",
      "source": [
        "```\n",
        "reinitialize\n",
        "fetch 2BG9\n",
        "hide cartoon\n",
        "select cadenaA, chain A\n",
        "select alpha, (resi 405-436) and cadenaA\n",
        "show cartoon, alpha\n",
        "orient alpha\n",
        "```\n"
      ],
      "metadata": {
        "id": "hY7RzdVsUpVU"
      },
      "id": "hY7RzdVsUpVU"
    },
    {
      "cell_type": "markdown",
      "source": [
        "### Which residues?"
      ],
      "metadata": {
        "id": "WSJwnnAUU15a"
      },
      "id": "WSJwnnAUU15a"
    },
    {
      "cell_type": "markdown",
      "source": [
        "#### Identify the residues from 44 to 48 in the chain A.\n",
        "Write your own PyMOL commands or the GUI menu to select the amino acids from 44 to 48. Use the sequence view to identify them."
      ],
      "metadata": {
        "id": "dKuE1Tm8U7yG"
      },
      "id": "dKuE1Tm8U7yG"
    },
    {
      "cell_type": "markdown",
      "source": [
        "### Dihedral angles"
      ],
      "metadata": {
        "id": "bUMicg1GVThz"
      },
      "id": "bUMicg1GVThz"
    },
    {
      "cell_type": "markdown",
      "source": [
        "#### Get the dihedral angles $\\phi$ and $\\psi$ of ```peptide```."
      ],
      "metadata": {
        "id": "PXQlJffSVbAA"
      },
      "id": "PXQlJffSVbAA"
    },
    {
      "cell_type": "markdown",
      "source": [
        "```\n",
        "hide everything\n",
        "select peptide, (resi 146-147) and cadenaA\n",
        "show sticks, peptide\n",
        "orient peptide\n",
        "```\n"
      ],
      "metadata": {
        "id": "c2AVD2ThVzFg"
      },
      "id": "c2AVD2ThVzFg"
    }
  ],
  "metadata": {
    "kernelspec": {
      "display_name": "Python 3 (ipykernel)",
      "language": "python",
      "name": "python3"
    },
    "language_info": {
      "codemirror_mode": {
        "name": "ipython",
        "version": 3
      },
      "file_extension": ".py",
      "mimetype": "text/x-python",
      "name": "python",
      "nbconvert_exporter": "python",
      "pygments_lexer": "ipython3",
      "version": "3.11.5"
    },
    "colab": {
      "provenance": [],
      "include_colab_link": true
    }
  },
  "nbformat": 4,
  "nbformat_minor": 5
}